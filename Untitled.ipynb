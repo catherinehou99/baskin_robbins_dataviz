{
 "cells": [
  {
   "cell_type": "code",
   "execution_count": 1,
   "metadata": {},
   "outputs": [],
   "source": [
    "import json\n",
    "import pandas as pd\n",
    "import requests\n",
    "import seaborn as sns\n",
    "import matplotlib.pyplot as plt\n",
    "import numpy as np"
   ]
  },
  {
   "cell_type": "code",
   "execution_count": 2,
   "metadata": {},
   "outputs": [],
   "source": [
    "br = pd.read_csv('data/baskinrobbins.csv')"
   ]
  },
  {
   "cell_type": "code",
   "execution_count": 3,
   "metadata": {},
   "outputs": [
    {
     "data": {
      "text/plain": [
       "1557"
      ]
     },
     "execution_count": 3,
     "metadata": {},
     "output_type": "execute_result"
    }
   ],
   "source": [
    "# number of baskin robbins collected\n",
    "len(br)"
   ]
  },
  {
   "cell_type": "code",
   "execution_count": 4,
   "metadata": {},
   "outputs": [],
   "source": [
    "# add state name for readability\n",
    "state_abb = pd.read_json('data/states_hash.json', orient='index').rename(columns={0:'state_name'})\n",
    "br = br.join(state_abb, on='state')"
   ]
  },
  {
   "cell_type": "code",
   "execution_count": 5,
   "metadata": {},
   "outputs": [
    {
     "data": {
      "text/html": [
       "<div>\n",
       "<style scoped>\n",
       "    .dataframe tbody tr th:only-of-type {\n",
       "        vertical-align: middle;\n",
       "    }\n",
       "\n",
       "    .dataframe tbody tr th {\n",
       "        vertical-align: top;\n",
       "    }\n",
       "\n",
       "    .dataframe thead th {\n",
       "        text-align: right;\n",
       "    }\n",
       "</style>\n",
       "<table border=\"1\" class=\"dataframe\">\n",
       "  <thead>\n",
       "    <tr style=\"text-align: right;\">\n",
       "      <th></th>\n",
       "      <th>id</th>\n",
       "      <th>alias</th>\n",
       "      <th>name</th>\n",
       "      <th>image_url</th>\n",
       "      <th>is_closed</th>\n",
       "      <th>url</th>\n",
       "      <th>review_count</th>\n",
       "      <th>categories</th>\n",
       "      <th>rating</th>\n",
       "      <th>coordinates</th>\n",
       "      <th>transactions</th>\n",
       "      <th>price</th>\n",
       "      <th>location</th>\n",
       "      <th>phone</th>\n",
       "      <th>display_phone</th>\n",
       "      <th>distance</th>\n",
       "      <th>city</th>\n",
       "      <th>zip_code</th>\n",
       "      <th>state</th>\n",
       "      <th>state_name</th>\n",
       "    </tr>\n",
       "  </thead>\n",
       "  <tbody>\n",
       "    <tr>\n",
       "      <th>0</th>\n",
       "      <td>7djC43scJJsqRKaFJv0ykw</td>\n",
       "      <td>baskin-robbins-cheyenne</td>\n",
       "      <td>Baskin Robbins</td>\n",
       "      <td>https://s3-media3.fl.yelpcdn.com/bphoto/0FDMjb...</td>\n",
       "      <td>False</td>\n",
       "      <td>https://www.yelp.com/biz/baskin-robbins-cheyen...</td>\n",
       "      <td>6</td>\n",
       "      <td>[{'alias': 'icecream', 'title': 'Ice Cream &amp; F...</td>\n",
       "      <td>3.5</td>\n",
       "      <td>{'latitude': 41.1357917785645, 'longitude': -1...</td>\n",
       "      <td>['delivery']</td>\n",
       "      <td>$$</td>\n",
       "      <td>{'address1': '723 E 16th St', 'address2': None...</td>\n",
       "      <td>1.307635e+10</td>\n",
       "      <td>(307) 635-2588</td>\n",
       "      <td>1143.983904</td>\n",
       "      <td>Cheyenne</td>\n",
       "      <td>82001</td>\n",
       "      <td>WY</td>\n",
       "      <td>Wyoming</td>\n",
       "    </tr>\n",
       "    <tr>\n",
       "      <th>1</th>\n",
       "      <td>5OnJUyq3BHYeX7ysK5pSOw</td>\n",
       "      <td>baskin-robbins-rockford-2</td>\n",
       "      <td>Baskin Robbins</td>\n",
       "      <td>https://s3-media3.fl.yelpcdn.com/bphoto/Z71mzI...</td>\n",
       "      <td>False</td>\n",
       "      <td>https://www.yelp.com/biz/baskin-robbins-rockfo...</td>\n",
       "      <td>2</td>\n",
       "      <td>[{'alias': 'icecream', 'title': 'Ice Cream &amp; F...</td>\n",
       "      <td>4.0</td>\n",
       "      <td>{'latitude': 42.298161, 'longitude': -88.998677}</td>\n",
       "      <td>['delivery']</td>\n",
       "      <td>$$</td>\n",
       "      <td>{'address1': '2579 N Mulford Rd', 'address2': ...</td>\n",
       "      <td>1.815878e+10</td>\n",
       "      <td>(815) 877-8646</td>\n",
       "      <td>26061.795739</td>\n",
       "      <td>Rockford</td>\n",
       "      <td>61114</td>\n",
       "      <td>IL</td>\n",
       "      <td>Illinois</td>\n",
       "    </tr>\n",
       "    <tr>\n",
       "      <th>2</th>\n",
       "      <td>SNo3YsQlEXhfk7b6mbwOUA</td>\n",
       "      <td>baskin-robbins-janesville</td>\n",
       "      <td>Baskin Robbins</td>\n",
       "      <td>NaN</td>\n",
       "      <td>False</td>\n",
       "      <td>https://www.yelp.com/biz/baskin-robbins-janesv...</td>\n",
       "      <td>1</td>\n",
       "      <td>[{'alias': 'icecream', 'title': 'Ice Cream &amp; F...</td>\n",
       "      <td>1.0</td>\n",
       "      <td>{'latitude': 42.65155, 'longitude': -89.0305}</td>\n",
       "      <td>['delivery']</td>\n",
       "      <td>$</td>\n",
       "      <td>{'address1': '1905 Center Ave', 'address2': 'S...</td>\n",
       "      <td>1.608759e+10</td>\n",
       "      <td>(608) 758-9937</td>\n",
       "      <td>13344.403398</td>\n",
       "      <td>Janesville</td>\n",
       "      <td>53546</td>\n",
       "      <td>WI</td>\n",
       "      <td>Wisconsin</td>\n",
       "    </tr>\n",
       "    <tr>\n",
       "      <th>3</th>\n",
       "      <td>Tt36qOCaMxiokhkteXaHBA</td>\n",
       "      <td>baskin-robbins-rockford-4</td>\n",
       "      <td>Baskin-Robbins</td>\n",
       "      <td>https://s3-media4.fl.yelpcdn.com/bphoto/ceN3Lj...</td>\n",
       "      <td>False</td>\n",
       "      <td>https://www.yelp.com/biz/baskin-robbins-rockfo...</td>\n",
       "      <td>1</td>\n",
       "      <td>[{'alias': 'icecream', 'title': 'Ice Cream &amp; F...</td>\n",
       "      <td>4.0</td>\n",
       "      <td>{'latitude': 42.253481, 'longitude': -89.026834}</td>\n",
       "      <td>['delivery']</td>\n",
       "      <td>$</td>\n",
       "      <td>{'address1': '4180 Newburg Rd', 'address2': ''...</td>\n",
       "      <td>1.815398e+10</td>\n",
       "      <td>(815) 397-6598</td>\n",
       "      <td>31021.088690</td>\n",
       "      <td>Rockford</td>\n",
       "      <td>61108</td>\n",
       "      <td>IL</td>\n",
       "      <td>Illinois</td>\n",
       "    </tr>\n",
       "    <tr>\n",
       "      <th>4</th>\n",
       "      <td>M833lIp7o8sSfbmY6V-StQ</td>\n",
       "      <td>baskin-robbins-north-versailles</td>\n",
       "      <td>Baskin Robbins</td>\n",
       "      <td>https://s3-media2.fl.yelpcdn.com/bphoto/TWbfU8...</td>\n",
       "      <td>False</td>\n",
       "      <td>https://www.yelp.com/biz/baskin-robbins-north-...</td>\n",
       "      <td>8</td>\n",
       "      <td>[{'alias': 'icecream', 'title': 'Ice Cream &amp; F...</td>\n",
       "      <td>2.5</td>\n",
       "      <td>{'latitude': 40.3776779174805, 'longitude': -7...</td>\n",
       "      <td>['delivery']</td>\n",
       "      <td>$</td>\n",
       "      <td>{'address1': '1121 Lincoln Hwy', 'address2': '...</td>\n",
       "      <td>1.412823e+10</td>\n",
       "      <td>(412) 823-0301</td>\n",
       "      <td>12772.394851</td>\n",
       "      <td>North Versailles</td>\n",
       "      <td>15137</td>\n",
       "      <td>PA</td>\n",
       "      <td>Pennsylvania</td>\n",
       "    </tr>\n",
       "  </tbody>\n",
       "</table>\n",
       "</div>"
      ],
      "text/plain": [
       "                       id                            alias            name  \\\n",
       "0  7djC43scJJsqRKaFJv0ykw          baskin-robbins-cheyenne  Baskin Robbins   \n",
       "1  5OnJUyq3BHYeX7ysK5pSOw        baskin-robbins-rockford-2  Baskin Robbins   \n",
       "2  SNo3YsQlEXhfk7b6mbwOUA        baskin-robbins-janesville  Baskin Robbins   \n",
       "3  Tt36qOCaMxiokhkteXaHBA        baskin-robbins-rockford-4  Baskin-Robbins   \n",
       "4  M833lIp7o8sSfbmY6V-StQ  baskin-robbins-north-versailles  Baskin Robbins   \n",
       "\n",
       "                                           image_url  is_closed  \\\n",
       "0  https://s3-media3.fl.yelpcdn.com/bphoto/0FDMjb...      False   \n",
       "1  https://s3-media3.fl.yelpcdn.com/bphoto/Z71mzI...      False   \n",
       "2                                                NaN      False   \n",
       "3  https://s3-media4.fl.yelpcdn.com/bphoto/ceN3Lj...      False   \n",
       "4  https://s3-media2.fl.yelpcdn.com/bphoto/TWbfU8...      False   \n",
       "\n",
       "                                                 url  review_count  \\\n",
       "0  https://www.yelp.com/biz/baskin-robbins-cheyen...             6   \n",
       "1  https://www.yelp.com/biz/baskin-robbins-rockfo...             2   \n",
       "2  https://www.yelp.com/biz/baskin-robbins-janesv...             1   \n",
       "3  https://www.yelp.com/biz/baskin-robbins-rockfo...             1   \n",
       "4  https://www.yelp.com/biz/baskin-robbins-north-...             8   \n",
       "\n",
       "                                          categories  rating  \\\n",
       "0  [{'alias': 'icecream', 'title': 'Ice Cream & F...     3.5   \n",
       "1  [{'alias': 'icecream', 'title': 'Ice Cream & F...     4.0   \n",
       "2  [{'alias': 'icecream', 'title': 'Ice Cream & F...     1.0   \n",
       "3  [{'alias': 'icecream', 'title': 'Ice Cream & F...     4.0   \n",
       "4  [{'alias': 'icecream', 'title': 'Ice Cream & F...     2.5   \n",
       "\n",
       "                                         coordinates  transactions price  \\\n",
       "0  {'latitude': 41.1357917785645, 'longitude': -1...  ['delivery']    $$   \n",
       "1   {'latitude': 42.298161, 'longitude': -88.998677}  ['delivery']    $$   \n",
       "2      {'latitude': 42.65155, 'longitude': -89.0305}  ['delivery']     $   \n",
       "3   {'latitude': 42.253481, 'longitude': -89.026834}  ['delivery']     $   \n",
       "4  {'latitude': 40.3776779174805, 'longitude': -7...  ['delivery']     $   \n",
       "\n",
       "                                            location         phone  \\\n",
       "0  {'address1': '723 E 16th St', 'address2': None...  1.307635e+10   \n",
       "1  {'address1': '2579 N Mulford Rd', 'address2': ...  1.815878e+10   \n",
       "2  {'address1': '1905 Center Ave', 'address2': 'S...  1.608759e+10   \n",
       "3  {'address1': '4180 Newburg Rd', 'address2': ''...  1.815398e+10   \n",
       "4  {'address1': '1121 Lincoln Hwy', 'address2': '...  1.412823e+10   \n",
       "\n",
       "    display_phone      distance              city zip_code state    state_name  \n",
       "0  (307) 635-2588   1143.983904          Cheyenne    82001    WY       Wyoming  \n",
       "1  (815) 877-8646  26061.795739          Rockford    61114    IL      Illinois  \n",
       "2  (608) 758-9937  13344.403398        Janesville    53546    WI     Wisconsin  \n",
       "3  (815) 397-6598  31021.088690          Rockford    61108    IL      Illinois  \n",
       "4  (412) 823-0301  12772.394851  North Versailles    15137    PA  Pennsylvania  "
      ]
     },
     "execution_count": 5,
     "metadata": {},
     "output_type": "execute_result"
    }
   ],
   "source": [
    "br.head()"
   ]
  },
  {
   "cell_type": "code",
   "execution_count": 6,
   "metadata": {},
   "outputs": [
    {
     "data": {
      "text/plain": [
       "state_name\n",
       "California    440\n",
       "Texas         134\n",
       "Illinois      128\n",
       "Florida       103\n",
       "New York       99\n",
       "dtype: int64"
      ]
     },
     "execution_count": 6,
     "metadata": {},
     "output_type": "execute_result"
    }
   ],
   "source": [
    "# states with the most locations\n",
    "br.groupby('state_name').size().sort_values(ascending=False).head()"
   ]
  },
  {
   "cell_type": "code",
   "execution_count": 7,
   "metadata": {},
   "outputs": [
    {
     "data": {
      "text/plain": [
       "state_name\n",
       "Wyoming                 1\n",
       "Montana                 2\n",
       "Minnesota               2\n",
       "Massachusetts           2\n",
       "District Of Columbia    2\n",
       "dtype: int64"
      ]
     },
     "execution_count": 7,
     "metadata": {},
     "output_type": "execute_result"
    }
   ],
   "source": [
    "# states with the least locations\n",
    "br.groupby('state_name').size().sort_values(ascending=True).head()"
   ]
  },
  {
   "cell_type": "code",
   "execution_count": 8,
   "metadata": {},
   "outputs": [
    {
     "data": {
      "text/plain": [
       "False    1496\n",
       "True       61\n",
       "Name: is_closed, dtype: int64"
      ]
     },
     "execution_count": 8,
     "metadata": {},
     "output_type": "execute_result"
    }
   ],
   "source": [
    "# open vs. closed baskin robbins\n",
    "br.is_closed.value_counts()"
   ]
  },
  {
   "cell_type": "code",
   "execution_count": 9,
   "metadata": {},
   "outputs": [
    {
     "data": {
      "text/plain": [
       "city\n",
       "Chicago        36\n",
       "Houston        24\n",
       "New York       20\n",
       "Los Angeles    17\n",
       "San Jose       14\n",
       "dtype: int64"
      ]
     },
     "execution_count": 9,
     "metadata": {},
     "output_type": "execute_result"
    }
   ],
   "source": [
    "br.groupby('city').size().sort_values(ascending=False).head()"
   ]
  },
  {
   "cell_type": "code",
   "execution_count": 10,
   "metadata": {},
   "outputs": [
    {
     "data": {
      "text/plain": [
       "<matplotlib.axes._subplots.AxesSubplot at 0x10b702ba8>"
      ]
     },
     "execution_count": 10,
     "metadata": {},
     "output_type": "execute_result"
    },
    {
     "data": {
      "image/png": "[encoded data removed]",
      "text/plain": [
       "<Figure size 432x288 with 1 Axes>"
      ]
     },
     "metadata": {
      "needs_background": "light"
     },
     "output_type": "display_data"
    }
   ],
   "source": [
    "# distribution of star ratings\n",
    "br.groupby('rating').size().plot(kind='barh')"
   ]
  },
  {
   "cell_type": "code",
   "execution_count": 11,
   "metadata": {},
   "outputs": [],
   "source": [
    "weather = pd.read_csv('data/weather.csv', sep='\t')\n",
    "weather = weather.rename(columns={'State':'state_name'})"
   ]
  },
  {
   "cell_type": "code",
   "execution_count": 12,
   "metadata": {},
   "outputs": [],
   "source": [
    "weather = state_abb.reset_index().merge(weather, left_on='state_name', right_on='state_name')"
   ]
  },
  {
   "cell_type": "code",
   "execution_count": 13,
   "metadata": {},
   "outputs": [],
   "source": [
    "weather['key']=weather['index'].str.lower().apply(lambda x: 'us-' + x)"
   ]
  },
  {
   "cell_type": "code",
   "execution_count": 14,
   "metadata": {},
   "outputs": [
    {
     "data": {
      "text/plain": [
       "[['us-ak', 2.6],\n",
       " ['us-al', 46.5],\n",
       " ['us-ar', 41.5],\n",
       " ['us-az', 43.6],\n",
       " ['us-ca', 46.2],\n",
       " ['us-co', 25.8],\n",
       " ['us-ct', 28.5],\n",
       " ['us-de', 36.1],\n",
       " ['us-fl', 59.4],\n",
       " ['us-ga', 47.8],\n",
       " ['us-hi', 67.4],\n",
       " ['us-ia', 21.7],\n",
       " ['us-id', 25.4],\n",
       " ['us-il', 28.3],\n",
       " ['us-in', 29.4],\n",
       " ['us-ks', 31.9],\n",
       " ['us-ky', 35.9],\n",
       " ['us-la', 50.9],\n",
       " ['us-ma', 27.4],\n",
       " ['us-md', 34.7],\n",
       " ['us-me', 16.8],\n",
       " ['us-mi', 21.7],\n",
       " ['us-mn', 12.4],\n",
       " ['us-mo', 32.3],\n",
       " ['us-ms', 46.7],\n",
       " ['us-mt', 21.2],\n",
       " ['us-nc', 42.1],\n",
       " ['us-nd', 12.2],\n",
       " ['us-ne', 25.7],\n",
       " ['us-nh', 21.1],\n",
       " ['us-nj', 33.0],\n",
       " ['us-nm', 36.1],\n",
       " ['us-nv', 32.2],\n",
       " ['us-ny', 23.3],\n",
       " ['us-oh', 29.5],\n",
       " ['us-ok', 39.1],\n",
       " ['us-or', 34.0],\n",
       " ['us-pa', 28.4],\n",
       " ['us-ri', 31.4],\n",
       " ['us-sc', 46.1],\n",
       " ['us-sd', 19.5],\n",
       " ['us-tn', 39.1],\n",
       " ['us-tx', 47.9],\n",
       " ['us-ut', 28.2],\n",
       " ['us-va', 36.8],\n",
       " ['us-vt', 19.4],\n",
       " ['us-wa', 33.0],\n",
       " ['us-wi', 17.2],\n",
       " ['us-wv', 32.8],\n",
       " ['us-wy', 21.2]]"
      ]
     },
     "execution_count": 14,
     "metadata": {},
     "output_type": "execute_result"
    }
   ],
   "source": [
    "weather[['key', 'Avg ° F']].values.tolist()"
   ]
  },
  {
   "cell_type": "code",
   "execution_count": 15,
   "metadata": {},
   "outputs": [],
   "source": [
    "store = br.groupby('state_name').size().to_frame().reset_index().merge(state_abb.reset_index(), how='right')"
   ]
  },
  {
   "cell_type": "code",
   "execution_count": 16,
   "metadata": {},
   "outputs": [],
   "source": [
    "store = store.fillna(0)"
   ]
  },
  {
   "cell_type": "code",
   "execution_count": 17,
   "metadata": {},
   "outputs": [],
   "source": [
    "store['key']=store['index'].str.lower().apply(lambda x: 'us-' + x)"
   ]
  },
  {
   "cell_type": "code",
   "execution_count": 18,
   "metadata": {},
   "outputs": [
    {
     "data": {
      "text/plain": [
       "[['us-al', 4.0],\n",
       " ['us-ak', 4.0],\n",
       " ['us-az', 33.0],\n",
       " ['us-ar', 7.0],\n",
       " ['us-ca', 440.0],\n",
       " ['us-co', 25.0],\n",
       " ['us-ct', 8.0],\n",
       " ['us-dc', 2.0],\n",
       " ['us-fl', 103.0],\n",
       " ['us-ga', 24.0],\n",
       " ['us-hi', 13.0],\n",
       " ['us-id', 8.0],\n",
       " ['us-il', 128.0],\n",
       " ['us-in', 13.0],\n",
       " ['us-ks', 9.0],\n",
       " ['us-ky', 11.0],\n",
       " ['us-la', 18.0],\n",
       " ['us-md', 47.0],\n",
       " ['us-ma', 2.0],\n",
       " ['us-mi', 33.0],\n",
       " ['us-mn', 2.0],\n",
       " ['us-ms', 11.0],\n",
       " ['us-mo', 13.0],\n",
       " ['us-mt', 2.0],\n",
       " ['us-ne', 3.0],\n",
       " ['us-nv', 19.0],\n",
       " ['us-nj', 43.0],\n",
       " ['us-nm', 15.0],\n",
       " ['us-ny', 99.0],\n",
       " ['us-nc', 31.0],\n",
       " ['us-oh', 17.0],\n",
       " ['us-ok', 8.0],\n",
       " ['us-or', 24.0],\n",
       " ['us-pa', 22.0],\n",
       " ['us-sc', 11.0],\n",
       " ['us-tn', 42.0],\n",
       " ['us-tx', 134.0],\n",
       " ['us-ut', 13.0],\n",
       " ['us-va', 44.0],\n",
       " ['us-wa', 58.0],\n",
       " ['us-wv', 3.0],\n",
       " ['us-wi', 7.0],\n",
       " ['us-wy', 1.0],\n",
       " ['us-as', 0.0],\n",
       " ['us-de', 0.0],\n",
       " ['us-fm', 0.0],\n",
       " ['us-gu', 0.0],\n",
       " ['us-ia', 0.0],\n",
       " ['us-me', 0.0],\n",
       " ['us-mh', 0.0],\n",
       " ['us-mp', 0.0],\n",
       " ['us-nd', 0.0],\n",
       " ['us-nh', 0.0],\n",
       " ['us-pr', 0.0],\n",
       " ['us-pw', 0.0],\n",
       " ['us-ri', 0.0],\n",
       " ['us-sd', 0.0],\n",
       " ['us-vi', 0.0],\n",
       " ['us-vt', 0.0]]"
      ]
     },
     "execution_count": 18,
     "metadata": {},
     "output_type": "execute_result"
    }
   ],
   "source": [
    "store[['key', 0]].values.tolist()"
   ]
  },
  {
   "cell_type": "code",
   "execution_count": 36,
   "metadata": {},
   "outputs": [
    {
     "data": {
      "text/plain": [
       "{'state_name': {'us-al': 'Alabama',\n",
       "  'us-ak': 'Alaska',\n",
       "  'us-az': 'Arizona',\n",
       "  'us-ar': 'Arkansas',\n",
       "  'us-ca': 'California',\n",
       "  'us-co': 'Colorado',\n",
       "  'us-ct': 'Connecticut',\n",
       "  'us-dc': 'District Of Columbia',\n",
       "  'us-fl': 'Florida',\n",
       "  'us-ga': 'Georgia',\n",
       "  'us-hi': 'Hawaii',\n",
       "  'us-id': 'Idaho',\n",
       "  'us-il': 'Illinois',\n",
       "  'us-in': 'Indiana',\n",
       "  'us-ks': 'Kansas',\n",
       "  'us-ky': 'Kentucky',\n",
       "  'us-la': 'Louisiana',\n",
       "  'us-md': 'Maryland',\n",
       "  'us-ma': 'Massachusetts',\n",
       "  'us-mi': 'Michigan',\n",
       "  'us-mn': 'Minnesota',\n",
       "  'us-ms': 'Mississippi',\n",
       "  'us-mo': 'Missouri',\n",
       "  'us-mt': 'Montana',\n",
       "  'us-ne': 'Nebraska',\n",
       "  'us-nv': 'Nevada',\n",
       "  'us-nj': 'New Jersey',\n",
       "  'us-nm': 'New Mexico',\n",
       "  'us-ny': 'New York',\n",
       "  'us-nc': 'North Carolina',\n",
       "  'us-oh': 'Ohio',\n",
       "  'us-ok': 'Oklahoma',\n",
       "  'us-or': 'Oregon',\n",
       "  'us-pa': 'Pennsylvania',\n",
       "  'us-sc': 'South Carolina',\n",
       "  'us-tn': 'Tennessee',\n",
       "  'us-tx': 'Texas',\n",
       "  'us-ut': 'Utah',\n",
       "  'us-va': 'Virginia',\n",
       "  'us-wa': 'Washington',\n",
       "  'us-wv': 'West Virginia',\n",
       "  'us-wi': 'Wisconsin',\n",
       "  'us-wy': 'Wyoming',\n",
       "  'us-as': 'American Samoa',\n",
       "  'us-de': 'Delaware',\n",
       "  'us-fm': 'Federated States Of Micronesia',\n",
       "  'us-gu': 'Guam',\n",
       "  'us-ia': 'Iowa',\n",
       "  'us-me': 'Maine',\n",
       "  'us-mh': 'Marshall Islands',\n",
       "  'us-mp': 'Northern Mariana Islands',\n",
       "  'us-nd': 'North Dakota',\n",
       "  'us-nh': 'New Hampshire',\n",
       "  'us-pr': 'Puerto Rico',\n",
       "  'us-pw': 'Palau',\n",
       "  'us-ri': 'Rhode Island',\n",
       "  'us-sd': 'South Dakota',\n",
       "  'us-vi': 'Virgin Islands',\n",
       "  'us-vt': 'Vermont'}}"
      ]
     },
     "execution_count": 36,
     "metadata": {},
     "output_type": "execute_result"
    }
   ],
   "source": [
    "store[['key', 'state_name']].set_index('key').to_dict()"
   ]
  },
  {
   "cell_type": "code",
   "execution_count": 37,
   "metadata": {},
   "outputs": [],
   "source": [
    "population = pd.read_csv('data/population.csv')\n",
    "population = population.rename(columns={'State':'state_name'})"
   ]
  },
  {
   "cell_type": "code",
   "execution_count": 39,
   "metadata": {},
   "outputs": [],
   "source": [
    "population = state_abb.reset_index().merge(population, left_on='state_name', right_on='state_name')"
   ]
  },
  {
   "cell_type": "code",
   "execution_count": 40,
   "metadata": {},
   "outputs": [],
   "source": [
    "population['key']=population['index'].str.lower().apply(lambda x: 'us-' + x)"
   ]
  },
  {
   "cell_type": "code",
   "execution_count": 59,
   "metadata": {},
   "outputs": [
    {
     "data": {
      "text/html": [
       "<div>\n",
       "<style scoped>\n",
       "    .dataframe tbody tr th:only-of-type {\n",
       "        vertical-align: middle;\n",
       "    }\n",
       "\n",
       "    .dataframe tbody tr th {\n",
       "        vertical-align: top;\n",
       "    }\n",
       "\n",
       "    .dataframe thead th {\n",
       "        text-align: right;\n",
       "    }\n",
       "</style>\n",
       "<table border=\"1\" class=\"dataframe\">\n",
       "  <thead>\n",
       "    <tr style=\"text-align: right;\">\n",
       "      <th></th>\n",
       "      <th>YEAR</th>\n",
       "      <th>2007</th>\n",
       "      <th>2008</th>\n",
       "      <th>2009</th>\n",
       "      <th>2010</th>\n",
       "      <th>2011</th>\n",
       "      <th>2013</th>\n",
       "      <th>2012</th>\n",
       "      <th>2018</th>\n",
       "      <th>2017</th>\n",
       "      <th>2016</th>\n",
       "      <th>2015</th>\n",
       "      <th>2014</th>\n",
       "    </tr>\n",
       "  </thead>\n",
       "  <tbody>\n",
       "    <tr>\n",
       "      <th>0</th>\n",
       "      <td>BR_US_STORES</td>\n",
       "      <td>2763</td>\n",
       "      <td>2692</td>\n",
       "      <td>2597</td>\n",
       "      <td>2547</td>\n",
       "      <td>2457</td>\n",
       "      <td>2467.0</td>\n",
       "      <td>2463.0</td>\n",
       "      <td>2550.0</td>\n",
       "      <td>2560.0</td>\n",
       "      <td>2538.0</td>\n",
       "      <td>2529.0</td>\n",
       "      <td>2529.0</td>\n",
       "    </tr>\n",
       "    <tr>\n",
       "      <th>1</th>\n",
       "      <td>BR_I_STORES</td>\n",
       "      <td>3111</td>\n",
       "      <td>3321</td>\n",
       "      <td>3610</td>\n",
       "      <td>3886</td>\n",
       "      <td>4254</td>\n",
       "      <td>4833.0</td>\n",
       "      <td>4556.0</td>\n",
       "      <td>5491.0</td>\n",
       "      <td>5422.0</td>\n",
       "      <td>5284.0</td>\n",
       "      <td>5078.0</td>\n",
       "      <td>5023.0</td>\n",
       "    </tr>\n",
       "    <tr>\n",
       "      <th>2</th>\n",
       "      <td>BR_US_SALES</td>\n",
       "      <td>572</td>\n",
       "      <td>560</td>\n",
       "      <td>524</td>\n",
       "      <td>494</td>\n",
       "      <td>496</td>\n",
       "      <td>513.3</td>\n",
       "      <td>509.3</td>\n",
       "      <td>611.9</td>\n",
       "      <td>606.1</td>\n",
       "      <td>603.6</td>\n",
       "      <td>594.8</td>\n",
       "      <td>560.5</td>\n",
       "    </tr>\n",
       "    <tr>\n",
       "      <th>3</th>\n",
       "      <td>BR_I_SALES</td>\n",
       "      <td>723</td>\n",
       "      <td>800</td>\n",
       "      <td>970</td>\n",
       "      <td>1158</td>\n",
       "      <td>1292</td>\n",
       "      <td>1362.0</td>\n",
       "      <td>1356.8</td>\n",
       "      <td>1459.8</td>\n",
       "      <td>1348.2</td>\n",
       "      <td>1307.7</td>\n",
       "      <td>1273.5</td>\n",
       "      <td>1335.6</td>\n",
       "    </tr>\n",
       "  </tbody>\n",
       "</table>\n",
       "</div>"
      ],
      "text/plain": [
       "           YEAR  2007  2008  2009  2010  2011    2013    2012    2018    2017  \\\n",
       "0  BR_US_STORES  2763  2692  2597  2547  2457  2467.0  2463.0  2550.0  2560.0   \n",
       "1   BR_I_STORES  3111  3321  3610  3886  4254  4833.0  4556.0  5491.0  5422.0   \n",
       "2   BR_US_SALES   572   560   524   494   496   513.3   509.3   611.9   606.1   \n",
       "3    BR_I_SALES   723   800   970  1158  1292  1362.0  1356.8  1459.8  1348.2   \n",
       "\n",
       "     2016    2015    2014  \n",
       "0  2538.0  2529.0  2529.0  \n",
       "1  5284.0  5078.0  5023.0  \n",
       "2   603.6   594.8   560.5  \n",
       "3  1307.7  1273.5  1335.6  "
      ]
     },
     "execution_count": 59,
     "metadata": {},
     "output_type": "execute_result"
    }
   ],
   "source": [
    "years = pd.read_csv('data/bryears.txt', sep=\" \")\n",
    "years"
   ]
  },
  {
   "cell_type": "code",
   "execution_count": 60,
   "metadata": {},
   "outputs": [],
   "source": [
    "years = years.T"
   ]
  },
  {
   "cell_type": "code",
   "execution_count": 61,
   "metadata": {},
   "outputs": [],
   "source": [
    "years.columns = years.iloc[0]\n",
    "years = years[1:]"
   ]
  },
  {
   "cell_type": "code",
   "execution_count": 62,
   "metadata": {},
   "outputs": [
    {
     "data": {
      "text/html": [
       "<div>\n",
       "<style scoped>\n",
       "    .dataframe tbody tr th:only-of-type {\n",
       "        vertical-align: middle;\n",
       "    }\n",
       "\n",
       "    .dataframe tbody tr th {\n",
       "        vertical-align: top;\n",
       "    }\n",
       "\n",
       "    .dataframe thead th {\n",
       "        text-align: right;\n",
       "    }\n",
       "</style>\n",
       "<table border=\"1\" class=\"dataframe\">\n",
       "  <thead>\n",
       "    <tr style=\"text-align: right;\">\n",
       "      <th>YEAR</th>\n",
       "      <th>BR_US_STORES</th>\n",
       "      <th>BR_I_STORES</th>\n",
       "      <th>BR_US_SALES</th>\n",
       "      <th>BR_I_SALES</th>\n",
       "    </tr>\n",
       "  </thead>\n",
       "  <tbody>\n",
       "    <tr>\n",
       "      <th>2007</th>\n",
       "      <td>2763</td>\n",
       "      <td>3111</td>\n",
       "      <td>572</td>\n",
       "      <td>723</td>\n",
       "    </tr>\n",
       "    <tr>\n",
       "      <th>2008</th>\n",
       "      <td>2692</td>\n",
       "      <td>3321</td>\n",
       "      <td>560</td>\n",
       "      <td>800</td>\n",
       "    </tr>\n",
       "    <tr>\n",
       "      <th>2009</th>\n",
       "      <td>2597</td>\n",
       "      <td>3610</td>\n",
       "      <td>524</td>\n",
       "      <td>970</td>\n",
       "    </tr>\n",
       "    <tr>\n",
       "      <th>2010</th>\n",
       "      <td>2547</td>\n",
       "      <td>3886</td>\n",
       "      <td>494</td>\n",
       "      <td>1158</td>\n",
       "    </tr>\n",
       "    <tr>\n",
       "      <th>2011</th>\n",
       "      <td>2457</td>\n",
       "      <td>4254</td>\n",
       "      <td>496</td>\n",
       "      <td>1292</td>\n",
       "    </tr>\n",
       "    <tr>\n",
       "      <th>2012</th>\n",
       "      <td>2463</td>\n",
       "      <td>4556</td>\n",
       "      <td>509.3</td>\n",
       "      <td>1356.8</td>\n",
       "    </tr>\n",
       "    <tr>\n",
       "      <th>2013</th>\n",
       "      <td>2467</td>\n",
       "      <td>4833</td>\n",
       "      <td>513.3</td>\n",
       "      <td>1362</td>\n",
       "    </tr>\n",
       "    <tr>\n",
       "      <th>2014</th>\n",
       "      <td>2529</td>\n",
       "      <td>5023</td>\n",
       "      <td>560.5</td>\n",
       "      <td>1335.6</td>\n",
       "    </tr>\n",
       "    <tr>\n",
       "      <th>2015</th>\n",
       "      <td>2529</td>\n",
       "      <td>5078</td>\n",
       "      <td>594.8</td>\n",
       "      <td>1273.5</td>\n",
       "    </tr>\n",
       "    <tr>\n",
       "      <th>2016</th>\n",
       "      <td>2538</td>\n",
       "      <td>5284</td>\n",
       "      <td>603.6</td>\n",
       "      <td>1307.7</td>\n",
       "    </tr>\n",
       "    <tr>\n",
       "      <th>2017</th>\n",
       "      <td>2560</td>\n",
       "      <td>5422</td>\n",
       "      <td>606.1</td>\n",
       "      <td>1348.2</td>\n",
       "    </tr>\n",
       "    <tr>\n",
       "      <th>2018</th>\n",
       "      <td>2550</td>\n",
       "      <td>5491</td>\n",
       "      <td>611.9</td>\n",
       "      <td>1459.8</td>\n",
       "    </tr>\n",
       "  </tbody>\n",
       "</table>\n",
       "</div>"
      ],
      "text/plain": [
       "YEAR BR_US_STORES BR_I_STORES BR_US_SALES BR_I_SALES\n",
       "2007         2763        3111         572        723\n",
       "2008         2692        3321         560        800\n",
       "2009         2597        3610         524        970\n",
       "2010         2547        3886         494       1158\n",
       "2011         2457        4254         496       1292\n",
       "2012         2463        4556       509.3     1356.8\n",
       "2013         2467        4833       513.3       1362\n",
       "2014         2529        5023       560.5     1335.6\n",
       "2015         2529        5078       594.8     1273.5\n",
       "2016         2538        5284       603.6     1307.7\n",
       "2017         2560        5422       606.1     1348.2\n",
       "2018         2550        5491       611.9     1459.8"
      ]
     },
     "execution_count": 62,
     "metadata": {},
     "output_type": "execute_result"
    }
   ],
   "source": [
    "years.sort_index()"
   ]
  },
  {
   "cell_type": "code",
   "execution_count": 56,
   "metadata": {},
   "outputs": [],
   "source": [
    "years = years.applymap(lambda x: float(x) * 1000000)"
   ]
  },
  {
   "cell_type": "code",
   "execution_count": 73,
   "metadata": {},
   "outputs": [
    {
     "data": {
      "text/plain": [
       "Index(['2007', '2008', '2009', '2010', '2011', '2013', '2012', '2018', '2017',\n",
       "       '2016', '2015', '2014'],\n",
       "      dtype='object')"
      ]
     },
     "execution_count": 73,
     "metadata": {},
     "output_type": "execute_result"
    }
   ],
   "source": [
    "years.index"
   ]
  },
  {
   "cell_type": "code",
   "execution_count": 67,
   "metadata": {},
   "outputs": [
    {
     "data": {
      "text/plain": [
       "array([3111, 3321, 3610, 3886, 4254, 4833.0, 4556.0, 5491.0, 5422.0,\n",
       "       5284.0, 5078.0, 5023.0], dtype=object)"
      ]
     },
     "execution_count": 67,
     "metadata": {},
     "output_type": "execute_result"
    }
   ],
   "source": [
    "years.BR_I_STORES.values"
   ]
  },
  {
   "cell_type": "code",
   "execution_count": 76,
   "metadata": {},
   "outputs": [],
   "source": [
    "year = years.sort_index()"
   ]
  },
  {
   "cell_type": "code",
   "execution_count": 81,
   "metadata": {},
   "outputs": [
    {
     "data": {
      "text/plain": [
       "Index(['2007', '2008', '2009', '2010', '2011', '2012', '2013', '2014', '2015',\n",
       "       '2016', '2017', '2018'],\n",
       "      dtype='object')"
      ]
     },
     "execution_count": 81,
     "metadata": {},
     "output_type": "execute_result"
    }
   ],
   "source": [
    "year.index"
   ]
  },
  {
   "cell_type": "code",
   "execution_count": 83,
   "metadata": {},
   "outputs": [
    {
     "data": {
      "text/plain": [
       "array([572, 560, 524, 494, 496, 509.3, 513.3, 560.5, 594.8, 603.6, 606.1,\n",
       "       611.9], dtype=object)"
      ]
     },
     "execution_count": 83,
     "metadata": {},
     "output_type": "execute_result"
    }
   ],
   "source": [
    "year.BR_US_SALES.values"
   ]
  },
  {
   "cell_type": "code",
   "execution_count": 72,
   "metadata": {},
   "outputs": [
    {
     "data": {
      "text/plain": [
       "6645.500000000001"
      ]
     },
     "execution_count": 72,
     "metadata": {},
     "output_type": "execute_result"
    }
   ],
   "source": [
    "years.BR_US_SALES.sum()"
   ]
  },
  {
   "cell_type": "code",
   "execution_count": 71,
   "metadata": {},
   "outputs": [
    {
     "data": {
      "text/plain": [
       "14386.600000000002"
      ]
     },
     "execution_count": 71,
     "metadata": {},
     "output_type": "execute_result"
    }
   ],
   "source": [
    "years.BR_I_SALES.sum()"
   ]
  },
  {
   "cell_type": "code",
   "execution_count": 116,
   "metadata": {},
   "outputs": [],
   "source": [
    "cons_series = pd.read_csv('data/dymfg.csv', header=2)['Ice cream'].dropna().reset_index(drop=True)"
   ]
  },
  {
   "cell_type": "code",
   "execution_count": 117,
   "metadata": {},
   "outputs": [],
   "source": [
    "df = pd.DataFrame(consumption_df)"
   ]
  },
  {
   "cell_type": "code",
   "execution_count": 118,
   "metadata": {},
   "outputs": [],
   "source": [
    "df['Year'] = pd.Series([*range(1909, 2018)])"
   ]
  },
  {
   "cell_type": "code",
   "execution_count": 140,
   "metadata": {},
   "outputs": [],
   "source": [
    "df = df[58:]"
   ]
  },
  {
   "cell_type": "code",
   "execution_count": 145,
   "metadata": {},
   "outputs": [
    {
     "data": {
      "text/plain": [
       "array([16.9, 17.3, 17. , 16.7, 16.6, 16.5, 16.4, 16.5, 18.2, 17.6, 17.3,\n",
       "       17.2, 16.9, 17.1, 17. , 17.2, 17.7, 17.8, 17.7, 18. , 17.9, 16.9,\n",
       "       15.8, 15.4, 15.9, 15.6, 15.5, 15.4, 15. , 15.1, 15.5, 15.7, 16.2,\n",
       "       16.1, 15.8, 16.2, 15.9, 14.6, 15.1, 15.3, 14.8, 14.2, 13.9, 14. ,\n",
       "       13.2, 13.2, 13. , 12.5, 12.9, 12.9, 12.8])"
      ]
     },
     "execution_count": 145,
     "metadata": {},
     "output_type": "execute_result"
    }
   ],
   "source": [
    "df[\"Ice cream\"].values"
   ]
  },
  {
   "cell_type": "code",
   "execution_count": null,
   "metadata": {},
   "outputs": [],
   "source": []
  }
 ],
 "metadata": {
  "kernelspec": {
   "display_name": "Python 3",
   "language": "python",
   "name": "python3"
  },
  "language_info": {
   "codemirror_mode": {
    "name": "ipython",
    "version": 3
   },
   "file_extension": ".py",
   "mimetype": "text/x-python",
   "name": "python",
   "nbconvert_exporter": "python",
   "pygments_lexer": "ipython3",
   "version": "3.7.3"
  }
 },
 "nbformat": 4,
 "nbformat_minor": 4
}
