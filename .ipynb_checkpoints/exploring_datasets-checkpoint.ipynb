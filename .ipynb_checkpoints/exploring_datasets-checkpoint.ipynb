{
 "cells": [
  {
   "cell_type": "code",
   "execution_count": 1,
   "metadata": {},
   "outputs": [],
   "source": [
    "import json\n",
    "import pandas as pd\n",
    "import requests\n",
    "import seaborn as sns\n",
    "import matplotlib.pyplot as plt"
   ]
  },
  {
   "cell_type": "code",
   "execution_count": 9,
   "metadata": {},
   "outputs": [],
   "source": [
    "#pd.read_json('data/business.json', orient='records')\n",
    "df_b = pd.read_json('data/business.json', lines=True)"
   ]
  },
  {
   "cell_type": "code",
   "execution_count": 94,
   "metadata": {},
   "outputs": [],
   "source": [
    "def iceCreamFinder(categories):\n",
    "    '''Finds the businesses that have the ice cream tag'''\n",
    "    if categories:\n",
    "        return (('Ice Cream & Frozen Yogurt') in categories.split(', '))\n",
    "    return False"
   ]
  },
  {
   "cell_type": "code",
   "execution_count": 95,
   "metadata": {},
   "outputs": [],
   "source": [
    "ic_business = df_b['categories'].apply(iceCreamFinder)\n",
    "ic_df = df_b[ic_business & (df_b['is_open']!=0)]"
   ]
  },
  {
   "cell_type": "code",
   "execution_count": 96,
   "metadata": {},
   "outputs": [
    {
     "data": {
      "text/plain": [
       "1957"
      ]
     },
     "execution_count": 96,
     "metadata": {},
     "output_type": "execute_result"
    }
   ],
   "source": [
    "len(ic_df)"
   ]
  },
  {
   "cell_type": "code",
   "execution_count": 103,
   "metadata": {},
   "outputs": [
    {
     "data": {
      "text/plain": [
       "{'RestaurantsPriceRange2': '1', 'RestaurantsTakeOut': 'True'}"
      ]
     },
     "execution_count": 103,
     "metadata": {},
     "output_type": "execute_result"
    }
   ],
   "source": [
    "ic_df['attributes'][125]"
   ]
  },
  {
   "cell_type": "code",
   "execution_count": 98,
   "metadata": {},
   "outputs": [
    {
     "data": {
      "text/plain": [
       "array(['ON', 'NC', 'PA', 'AZ', 'QC', 'AB', 'NV', 'OH', 'IL', 'WI', 'BAS',\n",
       "       'SC'], dtype=object)"
      ]
     },
     "execution_count": 98,
     "metadata": {},
     "output_type": "execute_result"
    }
   ],
   "source": [
    "ic_df['state'].unique()"
   ]
  },
  {
   "cell_type": "code",
   "execution_count": 99,
   "metadata": {},
   "outputs": [
    {
     "data": {
      "text/plain": [
       "Dairy Queen                               138\n",
       "Sonic Drive-In                             88\n",
       "Cold Stone Creamery                        49\n",
       "Baskin-Robbins                             33\n",
       "Culver's                                   33\n",
       "Baskin Robbins                             27\n",
       "Menchie's Frozen Yogurt                    22\n",
       "Nekter Juice Bar                           21\n",
       "DQ Grill & Chill Restaurant                20\n",
       "Rita's Italian Ice                         19\n",
       "Marble Slab Creamery                       19\n",
       "La Diperie                                 18\n",
       "Freddy's Frozen Custard & Steakburgers     17\n",
       "Yogurtland                                 14\n",
       "Ben & Jerry's                              13\n",
       "Sweet Frog Premium Frozen Yogurt           13\n",
       "Chocolats Favoris                          12\n",
       "Menchie's                                   9\n",
       "TCBY                                        9\n",
       "Sincerely Yogurt                            9\n",
       "Hwy 55 Burgers Shakes & Fries               8\n",
       "Baskin-Robbins Ice Cream                    7\n",
       "Sweet Jesus                                 7\n",
       "Insomnia Cookies                            7\n",
       "Chocolate Shoppe Ice Cream                  7\n",
       "Yogen Fruz                                  6\n",
       "Pinkberry                                   6\n",
       "Freshii                                     6\n",
       "Dunkin' Donuts                              6\n",
       "Water 'n Ice                                6\n",
       "Creamistry                                  6\n",
       "Handel's Homemade Ice Cream & Yogurt        6\n",
       "Yogurtini                                   5\n",
       "Bruster's Real Ice Cream                    5\n",
       "East Coast Original Frozen Custard          5\n",
       "U-Swirl Frozen Yogurt                       5\n",
       "Menchies                                    5\n",
       "Water and Ice                               5\n",
       "Häagen-Dazs                                 5\n",
       "Caffe Demetre                               5\n",
       "Thrifty Ice Cream                           4\n",
       "Water Mart                                  4\n",
       "Dairy King                                  4\n",
       "Lemonberry Frozen Yogurt                    4\n",
       "Rolled Ice Cream                            4\n",
       "Andy's Frozen Custard                       4\n",
       "Malley's Chocolates                         4\n",
       "Shake Shack                                 4\n",
       "Bahama Buck's                               4\n",
       "South St. Burger                            4\n",
       "Name: name, dtype: int64"
      ]
     },
     "execution_count": 99,
     "metadata": {},
     "output_type": "execute_result"
    }
   ],
   "source": [
    "pd.Series(ic_df['name']).value_counts()[0:50]"
   ]
  }
 ],
 "metadata": {
  "kernelspec": {
   "display_name": "Python 3",
   "language": "python",
   "name": "python3"
  },
  "language_info": {
   "codemirror_mode": {
    "name": "ipython",
    "version": 3
   },
   "file_extension": ".py",
   "mimetype": "text/x-python",
   "name": "python",
   "nbconvert_exporter": "python",
   "pygments_lexer": "ipython3",
   "version": "3.7.3"
  }
 },
 "nbformat": 4,
 "nbformat_minor": 4
}
